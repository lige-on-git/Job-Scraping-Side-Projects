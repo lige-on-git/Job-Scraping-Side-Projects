{
 "cells": [
  {
   "cell_type": "markdown",
   "id": "604d75aa",
   "metadata": {},
   "source": [
    "Simply to check the two csv files - more nicely displayed than R-studio.<br>\n",
    "For mysql driver in python: run !pip install mysql-connector-python.<br>\n",
    "For tutorial check this link: https://www.geeksforgeeks.org/python-mysql/"
   ]
  },
  {
   "cell_type": "code",
   "execution_count": null,
   "id": "406d4790",
   "metadata": {},
   "outputs": [],
   "source": [
    "## check existing tables to build a database schema\n",
    "import pandas as pd\n",
    "\n",
    "job_data = pd.read_csv(\"./data/final_ds.csv\", encoding='latin-1')\n",
    "student_data = pd.read_csv(\"./data/combined student data - processed.csv\", encoding='latin-1')"
   ]
  },
  {
   "cell_type": "code",
   "execution_count": null,
   "id": "72960828",
   "metadata": {},
   "outputs": [],
   "source": [
    "job_data.head()"
   ]
  },
  {
   "cell_type": "code",
   "execution_count": null,
   "id": "3b1bbb65",
   "metadata": {},
   "outputs": [],
   "source": [
    "import re\n",
    "\n",
    "def remove_unicode(string):\n",
    "    pattern = r'[^\\x00-\\x7F]+'   # unicode pattern\n",
    "    string = re.sub(pattern, ' ', string)\n",
    "    string = re.sub(r'\\s+', ' ', string)   # remove extra space\n",
    "    return(string)\n",
    "\n",
    "\n",
    "s = job_data[\"position information\"][0]\n",
    "remove_unicode(s)"
   ]
  },
  {
   "cell_type": "code",
   "execution_count": null,
   "id": "cb8e14ad",
   "metadata": {},
   "outputs": [],
   "source": [
    "pd.set_option('display.max_columns', None)\n",
    "student_data.head()"
   ]
  }
 ],
 "metadata": {
  "kernelspec": {
   "display_name": "Python (new39)",
   "language": "python",
   "name": "base"
  },
  "language_info": {
   "codemirror_mode": {
    "name": "ipython",
    "version": 3
   },
   "file_extension": ".py",
   "mimetype": "text/x-python",
   "name": "python",
   "nbconvert_exporter": "python",
   "pygments_lexer": "ipython3",
   "version": "3.9.12"
  }
 },
 "nbformat": 4,
 "nbformat_minor": 5
}
